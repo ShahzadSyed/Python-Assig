{
 "cells": [
  {
   "cell_type": "markdown",
   "metadata": {},
   "source": [
    "# Object Oriented Programming"
   ]
  },
  {
   "cell_type": "markdown",
   "metadata": {},
   "source": [
    "*Object-Oriented Programming (OOP) is a programming paradigm where different components of a computer program are modeled after real-world objects. An object is anything that has some characteristics and can perform a function*"
   ]
  },
  {
   "cell_type": "markdown",
   "metadata": {},
   "source": [
    "**List down the Benefits of OOP?**\n",
    "\n",
    "* Modularity for easier troubleshooting \n",
    "* Reuse of code through inheritance \n",
    "* Flexibility through polymorphism \n",
    "* Effective problem solving."
   ]
  },
  {
   "cell_type": "markdown",
   "metadata": {},
   "source": [
    "## Class\n",
    "\n",
    "*A class is a code template for creating objects. Objects have member variables and have behaviour associated with them. In python a class is created by the keyword class.*"
   ]
  },
  {
   "cell_type": "markdown",
   "metadata": {},
   "source": [
    "## Attributes\n",
    "\n",
    "*Attributes belong to the class itself they will be shared by all the instances. Such attributes are defined in the class body parts usually at the top, for legibility.*"
   ]
  },
  {
   "cell_type": "markdown",
   "metadata": {},
   "source": [
    "## Object \n",
    "\n",
    "*A unique instance of a data structure that is defined by its class. An object comprises both data members (class variables and instance variables) and methods.*"
   ]
  },
  {
   "cell_type": "markdown",
   "metadata": {},
   "source": [
    "## Behavior\n",
    "\n",
    "*Behavior testing simply means that we should test how an application behaves in certain situations. Often the behavior is given to us developers by our customers. They describe the functionality of an application, and we write code to meet their specifications. Behavioral tests are a tool to formalize their requirements into tests. This leads naturally to behavior-driven development*"
   ]
  },
  {
   "cell_type": "code",
   "execution_count": 3,
   "metadata": {
    "scrolled": true
   },
   "outputs": [
    {
     "name": "stdout",
     "output_type": "stream",
     "text": [
      "Enter the car year: 2002\n",
      "Enter the car make: Suzuki\n",
      "Enter the car color: Black\n",
      "The current speed is:  5\n",
      "The current speed is:  10\n",
      "The current speed is:  15\n",
      "The current speed is:  20\n",
      "The current speed is:  25\n",
      "The current speed after brake is:  20\n",
      "The current speed after brake is:  15\n",
      "The current speed after brake is:  10\n",
      "The current speed after brake is:  5\n",
      "The current speed after brake is:  0\n"
     ]
    }
   ],
   "source": [
    "class Car:\n",
    "    def __init__(self, year, make, speed,color):\n",
    "        self.__year_model = year\n",
    "        self.__make = make\n",
    "        self.__speed = 0\n",
    "        self.__color = color\n",
    "\n",
    "    def set_year_model(self, year):\n",
    "        self.__year_model = year\n",
    "\n",
    "    def set_make(self, make):\n",
    "        self.__make = make\n",
    "\n",
    "    def set_speed(self, speed):\n",
    "        self.__speed = 0\n",
    "    \n",
    "    def set_color(self, color):\n",
    "        self.__color = color\n",
    "\n",
    "    def get_year_model(self):\n",
    "        return self.__year_model\n",
    "\n",
    "    def get_make(self):\n",
    "        return self.__make\n",
    "\n",
    "    def get_speed(self):\n",
    "        return self.__speed\n",
    "    \n",
    "    def get_color(self):\n",
    "        return self.__color\n",
    "\n",
    "    #methods\n",
    "    def accelerate(self):\n",
    "        self.__speed +=5\n",
    "\n",
    "    def brake(self):\n",
    "        self.__speed -=5\n",
    "\n",
    "    def get_speed(self):\n",
    "        return self.__speed\n",
    "\n",
    "def main():\n",
    "\n",
    "    year = input('Enter the car year: ')\n",
    "    make = input('Enter the car make: ')\n",
    "    color = input('Enter the car color: ')\n",
    "    speed = 0\n",
    "\n",
    "    mycar = Car(year, make, speed, color)\n",
    "\n",
    "    #Accelerate 5 times\n",
    "    mycar.accelerate()\n",
    "    print('The current speed is: ', mycar.get_speed())\n",
    "    mycar.accelerate()\n",
    "    print('The current speed is: ', mycar.get_speed())\n",
    "    mycar.accelerate()\n",
    "    print('The current speed is: ', mycar.get_speed())\n",
    "    mycar.accelerate()\n",
    "    print('The current speed is: ', mycar.get_speed())\n",
    "    mycar.accelerate()\n",
    "    print('The current speed is: ', mycar.get_speed()) \n",
    "\n",
    "    #Brake 5 times\n",
    "    mycar.brake()\n",
    "    print('The current speed after brake is: ', mycar.get_speed())\n",
    "    mycar.brake()\n",
    "    print('The current speed after brake is: ', mycar.get_speed())\n",
    "    mycar.brake()\n",
    "    print('The current speed after brake is: ', mycar.get_speed())\n",
    "    mycar.brake() \n",
    "    print('The current speed after brake is: ', mycar.get_speed())\n",
    "    mycar.brake()\n",
    "    print('The current speed after brake is: ', mycar.get_speed())\n",
    "\n",
    "#Call the main function\n",
    "main()"
   ]
  },
  {
   "cell_type": "markdown",
   "metadata": {},
   "source": [
    "# Difference between Method and Function in Python"
   ]
  },
  {
   "cell_type": "markdown",
   "metadata": {},
   "source": [
    "**Python Method**\n",
    "\n",
    "* *Method is called by its name, but it is **associated to an object** (dependent)* \n",
    "* *A method is **implicitly passed the object** on which it is invoked.*\n",
    "* *It **may or may not return any data**.*\n",
    "* *A method **can operate on the data (instance variables) that is contained by the corresponding class**.*\n",
    "\n",
    "**Python Functions**\n",
    "\n",
    "* *Function is block of code that is also **called by its name**. (independent)*\n",
    "* *The function can have different parameters or may not have any at all. If **any data (parameters)** are passed, they are **passed explicitly**.*\n",
    "* *It **may or may not return any data**.*\n",
    "* *Function does not deal with Class and its instance concept.*"
   ]
  },
  {
   "cell_type": "code",
   "execution_count": null,
   "metadata": {},
   "outputs": [],
   "source": []
  }
 ],
 "metadata": {
  "kernelspec": {
   "display_name": "Python 3",
   "language": "python",
   "name": "python3"
  },
  "language_info": {
   "codemirror_mode": {
    "name": "ipython",
    "version": 3
   },
   "file_extension": ".py",
   "mimetype": "text/x-python",
   "name": "python",
   "nbconvert_exporter": "python",
   "pygments_lexer": "ipython3",
   "version": "3.7.4"
  }
 },
 "nbformat": 4,
 "nbformat_minor": 2
}
